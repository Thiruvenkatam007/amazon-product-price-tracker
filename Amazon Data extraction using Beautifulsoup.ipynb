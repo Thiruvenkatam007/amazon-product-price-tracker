{
 "cells": [
  {
   "cell_type": "code",
   "execution_count": 1,
   "metadata": {},
   "outputs": [],
   "source": [
    "#-------------------------------------------------Importing Beautifulsoup and Requests-----------------------------------------------------------------\n",
    "import requests\n",
    "from bs4 import BeautifulSoup"
   ]
  },
  {
   "cell_type": "code",
   "execution_count": 2,
   "metadata": {},
   "outputs": [],
   "source": [
    "#------------------------------------------------Creating variable to assign desired url----------------------------------------------------------------\n",
    "url = \"https://www.amazon.in/dp/B09G9BL5CP/ref=sspa_dk_detail_1?psc=1&pd_rd_i=B09G9BL5CP&pd_rd_w=HnzpN&content-id=amzn1.sym.1ab86ed4-e009-4190-bbae-77cbcace0264&pf_rd_p=1ab86ed4-e009-4190-bbae-77cbcace0264&pf_rd_r=308F4NVCG2CAVSWJHD4P&pd_rd_wg=GA6DE&pd_rd_r=ab2b69a9-1fa5-4c41-b124-9ec456df03b7&sp_csd=d2lkZ2V0TmFtZT1zcF9kZXRhaWxfdGhlbWF0aWM&spLa=ZW5jcnlwdGVkUXVhbGlmaWVyPUEyVzFQRlY3M0xTVVEzJmVuY3J5cHRlZElkPUEwODU2NzI1M1VVUlpOSE9TNEg0UCZlbmNyeXB0ZWRBZElkPUEwODExNzIwMldYNlo5WUVNSUc3VCZ3aWRnZXROYW1lPXNwX2RldGFpbF90aGVtYXRpYyZhY3Rpb249Y2xpY2tSZWRpcmVjdCZkb05vdExvZ0NsaWNrPXRydWU=\"\n",
    "#------------------------------------------------In header field change the version of browser to your version-----------------------------------------\n",
    "headers = {\n",
    "    'User-Agent': 'Mozilla/5.0 (Windows NT 10.0; Win64; x64) AppleWebKit/537.36 (KHTML, like Gecko) Chrome/111.0.5563.65 Safari/537.36'}\n"
   ]
  },
  {
   "cell_type": "code",
   "execution_count": 3,
   "metadata": {},
   "outputs": [],
   "source": [
    "#----------------------------In this we are requesting access using request package and using beautifulsoup we are scraping it---------------------------\n",
    "page = requests.get(url, headers=headers)\n",
    "bs = BeautifulSoup(page.content, 'lxml')\n"
   ]
  },
  {
   "cell_type": "code",
   "execution_count": 24,
   "metadata": {},
   "outputs": [
    {
     "name": "stdout",
     "output_type": "stream",
     "text": [
      "Apple iPhone 13 (128GB) - Blue\n"
     ]
    }
   ],
   "source": [
    "#----------------------------------------Product title----------------------------------------------------------------------------------------------------\n",
    "try:\n",
    "    product_title = bs.find(id=\"productTitle\").get_text().strip()\n",
    "except AttributeError:\n",
    "    product_title = \"\"\n",
    "print(product_title)"
   ]
  },
  {
   "cell_type": "code",
   "execution_count": 8,
   "metadata": {},
   "outputs": [
    {
     "data": {
      "text/plain": [
       "61999.0"
      ]
     },
     "execution_count": 8,
     "metadata": {},
     "output_type": "execute_result"
    }
   ],
   "source": [
    "#-----------------------------------------------------product price---------------------------------------------------------------------------------------\n",
    "try:\n",
    "    price = bs.find(\"span\", attrs={'class':'a-price-whole'}).get_text().strip()\n",
    "except AttributeError:\n",
    "    price = \"\"\n",
    "price = price.replace(\",\", \"\")\n",
    "price = float(price[:len(price)-1])\n",
    "price"
   ]
  },
  {
   "cell_type": "code",
   "execution_count": 10,
   "metadata": {},
   "outputs": [
    {
     "data": {
      "text/plain": [
       "'4.6 out of 5 stars'"
      ]
     },
     "execution_count": 10,
     "metadata": {},
     "output_type": "execute_result"
    }
   ],
   "source": [
    "#-------------------------------------------------------------Product ratings-----------------------------------------------------------------------------\n",
    "try:\n",
    "\trating = bs.find(\"i\", attrs={'class':'a-icon a-icon-star a-star-4-5'}).string.strip()\n",
    "except AttributeError:\n",
    "\t\t\n",
    "\t\ttry:\n",
    "\t\t\trating = bs.find(\"span\", attrs={'class':'a-icon-alt'}).string.strip()\n",
    "\t\texcept:\n",
    "\t\t\trating = \"\"\t\n",
    "\t\t\t\n",
    "rating"
   ]
  },
  {
   "cell_type": "code",
   "execution_count": 20,
   "metadata": {},
   "outputs": [
    {
     "data": {
      "text/plain": [
       "'13,896 ratings'"
      ]
     },
     "execution_count": 20,
     "metadata": {},
     "output_type": "execute_result"
    }
   ],
   "source": [
    "#-------------------------------------------Review count------------------------------------------------------------------------------------------------\n",
    "try:\n",
    "\t\treview_count = bs.find(\"span\", attrs={'id':'acrCustomerReviewText'}).string.strip()\n",
    "except AttributeError:\n",
    "\t\treview_count = \"\"\n",
    "\t\t\n",
    "review_count"
   ]
  },
  {
   "cell_type": "code",
   "execution_count": 22,
   "metadata": {},
   "outputs": [
    {
     "data": {
      "text/plain": [
       "'In stock'"
      ]
     },
     "execution_count": 22,
     "metadata": {},
     "output_type": "execute_result"
    }
   ],
   "source": [
    "#-----------------------------------------------product availability------------------------------------------------------------------------------\n",
    "try:\n",
    "    available = bs.find(\"div\", attrs={'id':'availability'})\n",
    "    available = available.find(\"span\").string.strip()\n",
    "except AttributeError:\n",
    "    available = \"\"\t\n",
    "\n",
    "available"
   ]
  },
  {
   "cell_type": "code",
   "execution_count": 25,
   "metadata": {},
   "outputs": [
    {
     "name": "stdout",
     "output_type": "stream",
     "text": [
      "Product Title = Apple iPhone 13 (128GB) - Blue\n",
      "Product Price = 61999.0\n",
      "Product Rating = 4.6 out of 5 stars\n",
      "Number of Product Reviews = 13,896 ratings\n",
      "Availability = In stock\n"
     ]
    }
   ],
   "source": [
    "print(\"Product Title =\", product_title)\n",
    "print(\"Product Price =\", price)\n",
    "print(\"Product Rating =\", rating)\n",
    "print(\"Number of Product Reviews =\", review_count)\n",
    "print(\"Availability =\", available)"
   ]
  }
 ],
 "metadata": {
  "kernelspec": {
   "display_name": "Beast_20220927",
   "language": "python",
   "name": "python3"
  },
  "language_info": {
   "codemirror_mode": {
    "name": "ipython",
    "version": 3
   },
   "file_extension": ".py",
   "mimetype": "text/x-python",
   "name": "python",
   "nbconvert_exporter": "python",
   "pygments_lexer": "ipython3",
   "version": "3.10.4"
  },
  "orig_nbformat": 4
 },
 "nbformat": 4,
 "nbformat_minor": 2
}
